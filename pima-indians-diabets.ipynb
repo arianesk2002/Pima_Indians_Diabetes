{
 "cells": [
  {
   "cell_type": "code",
   "execution_count": 1,
   "id": "0a1f8017",
   "metadata": {
    "_cell_guid": "b1076dfc-b9ad-4769-8c92-a6c4dae69d19",
    "_uuid": "8f2839f25d086af736a60e9eeb907d3b93b6e0e5",
    "execution": {
     "iopub.execute_input": "2025-04-09T09:06:41.300268Z",
     "iopub.status.busy": "2025-04-09T09:06:41.299709Z",
     "iopub.status.idle": "2025-04-09T09:06:42.244635Z",
     "shell.execute_reply": "2025-04-09T09:06:42.243563Z"
    },
    "papermill": {
     "duration": 0.953807,
     "end_time": "2025-04-09T09:06:42.247189",
     "exception": false,
     "start_time": "2025-04-09T09:06:41.293382",
     "status": "completed"
    },
    "tags": []
   },
   "outputs": [],
   "source": [
    "import numpy as np\n",
    "import pandas as pd"
   ]
  },
  {
   "cell_type": "markdown",
   "id": "80d90db8",
   "metadata": {
    "papermill": {
     "duration": 0.003479,
     "end_time": "2025-04-09T09:06:42.254756",
     "exception": false,
     "start_time": "2025-04-09T09:06:42.251277",
     "status": "completed"
    },
    "tags": []
   },
   "source": [
    "# Loading data"
   ]
  },
  {
   "cell_type": "code",
   "execution_count": 2,
   "id": "54c333bd",
   "metadata": {
    "execution": {
     "iopub.execute_input": "2025-04-09T09:06:42.264310Z",
     "iopub.status.busy": "2025-04-09T09:06:42.263765Z",
     "iopub.status.idle": "2025-04-09T09:06:42.304138Z",
     "shell.execute_reply": "2025-04-09T09:06:42.302845Z"
    },
    "papermill": {
     "duration": 0.048277,
     "end_time": "2025-04-09T09:06:42.306771",
     "exception": false,
     "start_time": "2025-04-09T09:06:42.258494",
     "status": "completed"
    },
    "tags": []
   },
   "outputs": [
    {
     "data": {
      "text/html": [
       "<div>\n",
       "<style scoped>\n",
       "    .dataframe tbody tr th:only-of-type {\n",
       "        vertical-align: middle;\n",
       "    }\n",
       "\n",
       "    .dataframe tbody tr th {\n",
       "        vertical-align: top;\n",
       "    }\n",
       "\n",
       "    .dataframe thead th {\n",
       "        text-align: right;\n",
       "    }\n",
       "</style>\n",
       "<table border=\"1\" class=\"dataframe\">\n",
       "  <thead>\n",
       "    <tr style=\"text-align: right;\">\n",
       "      <th></th>\n",
       "      <th>Pregnancies</th>\n",
       "      <th>Glucose</th>\n",
       "      <th>BloodPressure</th>\n",
       "      <th>SkinThickness</th>\n",
       "      <th>Insulin</th>\n",
       "      <th>BMI</th>\n",
       "      <th>DiabetesPedigreeFunction</th>\n",
       "      <th>Age</th>\n",
       "      <th>Outcome</th>\n",
       "    </tr>\n",
       "  </thead>\n",
       "  <tbody>\n",
       "    <tr>\n",
       "      <th>0</th>\n",
       "      <td>6</td>\n",
       "      <td>148</td>\n",
       "      <td>72</td>\n",
       "      <td>35</td>\n",
       "      <td>0</td>\n",
       "      <td>33.6</td>\n",
       "      <td>0.627</td>\n",
       "      <td>50</td>\n",
       "      <td>1</td>\n",
       "    </tr>\n",
       "    <tr>\n",
       "      <th>1</th>\n",
       "      <td>1</td>\n",
       "      <td>85</td>\n",
       "      <td>66</td>\n",
       "      <td>29</td>\n",
       "      <td>0</td>\n",
       "      <td>26.6</td>\n",
       "      <td>0.351</td>\n",
       "      <td>31</td>\n",
       "      <td>0</td>\n",
       "    </tr>\n",
       "    <tr>\n",
       "      <th>2</th>\n",
       "      <td>8</td>\n",
       "      <td>183</td>\n",
       "      <td>64</td>\n",
       "      <td>0</td>\n",
       "      <td>0</td>\n",
       "      <td>23.3</td>\n",
       "      <td>0.672</td>\n",
       "      <td>32</td>\n",
       "      <td>1</td>\n",
       "    </tr>\n",
       "    <tr>\n",
       "      <th>3</th>\n",
       "      <td>1</td>\n",
       "      <td>89</td>\n",
       "      <td>66</td>\n",
       "      <td>23</td>\n",
       "      <td>94</td>\n",
       "      <td>28.1</td>\n",
       "      <td>0.167</td>\n",
       "      <td>21</td>\n",
       "      <td>0</td>\n",
       "    </tr>\n",
       "    <tr>\n",
       "      <th>4</th>\n",
       "      <td>0</td>\n",
       "      <td>137</td>\n",
       "      <td>40</td>\n",
       "      <td>35</td>\n",
       "      <td>168</td>\n",
       "      <td>43.1</td>\n",
       "      <td>2.288</td>\n",
       "      <td>33</td>\n",
       "      <td>1</td>\n",
       "    </tr>\n",
       "  </tbody>\n",
       "</table>\n",
       "</div>"
      ],
      "text/plain": [
       "   Pregnancies  Glucose  BloodPressure  SkinThickness  Insulin   BMI  \\\n",
       "0            6      148             72             35        0  33.6   \n",
       "1            1       85             66             29        0  26.6   \n",
       "2            8      183             64              0        0  23.3   \n",
       "3            1       89             66             23       94  28.1   \n",
       "4            0      137             40             35      168  43.1   \n",
       "\n",
       "   DiabetesPedigreeFunction  Age  Outcome  \n",
       "0                     0.627   50        1  \n",
       "1                     0.351   31        0  \n",
       "2                     0.672   32        1  \n",
       "3                     0.167   21        0  \n",
       "4                     2.288   33        1  "
      ]
     },
     "execution_count": 2,
     "metadata": {},
     "output_type": "execute_result"
    }
   ],
   "source": [
    "train_data = pd.read_csv(\"./data/diabetes_train.csv\")\n",
    "\n",
    "train_data.head()"
   ]
  },
  {
   "cell_type": "code",
   "execution_count": 3,
   "id": "c1554fd3",
   "metadata": {
    "execution": {
     "iopub.execute_input": "2025-04-09T09:06:42.316993Z",
     "iopub.status.busy": "2025-04-09T09:06:42.316602Z",
     "iopub.status.idle": "2025-04-09T09:06:42.332506Z",
     "shell.execute_reply": "2025-04-09T09:06:42.331239Z"
    },
    "papermill": {
     "duration": 0.023618,
     "end_time": "2025-04-09T09:06:42.334772",
     "exception": false,
     "start_time": "2025-04-09T09:06:42.311154",
     "status": "completed"
    },
    "tags": []
   },
   "outputs": [
    {
     "data": {
      "text/html": [
       "<div>\n",
       "<style scoped>\n",
       "    .dataframe tbody tr th:only-of-type {\n",
       "        vertical-align: middle;\n",
       "    }\n",
       "\n",
       "    .dataframe tbody tr th {\n",
       "        vertical-align: top;\n",
       "    }\n",
       "\n",
       "    .dataframe thead th {\n",
       "        text-align: right;\n",
       "    }\n",
       "</style>\n",
       "<table border=\"1\" class=\"dataframe\">\n",
       "  <thead>\n",
       "    <tr style=\"text-align: right;\">\n",
       "      <th></th>\n",
       "      <th>Pregnancies</th>\n",
       "      <th>Glucose</th>\n",
       "      <th>BloodPressure</th>\n",
       "      <th>SkinThickness</th>\n",
       "      <th>Insulin</th>\n",
       "      <th>BMI</th>\n",
       "      <th>DiabetesPedigreeFunction</th>\n",
       "      <th>Age</th>\n",
       "    </tr>\n",
       "  </thead>\n",
       "  <tbody>\n",
       "    <tr>\n",
       "      <th>0</th>\n",
       "      <td>6</td>\n",
       "      <td>98</td>\n",
       "      <td>58</td>\n",
       "      <td>33</td>\n",
       "      <td>190</td>\n",
       "      <td>34.0</td>\n",
       "      <td>0.430</td>\n",
       "      <td>43</td>\n",
       "    </tr>\n",
       "    <tr>\n",
       "      <th>1</th>\n",
       "      <td>9</td>\n",
       "      <td>154</td>\n",
       "      <td>78</td>\n",
       "      <td>30</td>\n",
       "      <td>100</td>\n",
       "      <td>30.9</td>\n",
       "      <td>0.164</td>\n",
       "      <td>45</td>\n",
       "    </tr>\n",
       "    <tr>\n",
       "      <th>2</th>\n",
       "      <td>6</td>\n",
       "      <td>165</td>\n",
       "      <td>68</td>\n",
       "      <td>26</td>\n",
       "      <td>168</td>\n",
       "      <td>33.6</td>\n",
       "      <td>0.631</td>\n",
       "      <td>49</td>\n",
       "    </tr>\n",
       "    <tr>\n",
       "      <th>3</th>\n",
       "      <td>1</td>\n",
       "      <td>99</td>\n",
       "      <td>58</td>\n",
       "      <td>10</td>\n",
       "      <td>0</td>\n",
       "      <td>25.4</td>\n",
       "      <td>0.551</td>\n",
       "      <td>21</td>\n",
       "    </tr>\n",
       "    <tr>\n",
       "      <th>4</th>\n",
       "      <td>10</td>\n",
       "      <td>68</td>\n",
       "      <td>106</td>\n",
       "      <td>23</td>\n",
       "      <td>49</td>\n",
       "      <td>35.5</td>\n",
       "      <td>0.285</td>\n",
       "      <td>47</td>\n",
       "    </tr>\n",
       "  </tbody>\n",
       "</table>\n",
       "</div>"
      ],
      "text/plain": [
       "   Pregnancies  Glucose  BloodPressure  SkinThickness  Insulin   BMI  \\\n",
       "0            6       98             58             33      190  34.0   \n",
       "1            9      154             78             30      100  30.9   \n",
       "2            6      165             68             26      168  33.6   \n",
       "3            1       99             58             10        0  25.4   \n",
       "4           10       68            106             23       49  35.5   \n",
       "\n",
       "   DiabetesPedigreeFunction  Age  \n",
       "0                     0.430   43  \n",
       "1                     0.164   45  \n",
       "2                     0.631   49  \n",
       "3                     0.551   21  \n",
       "4                     0.285   47  "
      ]
     },
     "execution_count": 3,
     "metadata": {},
     "output_type": "execute_result"
    }
   ],
   "source": [
    "test_data = pd.read_csv(\"./data/diabetes_test.csv\")\n",
    "test_data.head()"
   ]
  },
  {
   "cell_type": "markdown",
   "id": "8e3661fe",
   "metadata": {
    "papermill": {
     "duration": 0.004049,
     "end_time": "2025-04-09T09:06:42.343237",
     "exception": false,
     "start_time": "2025-04-09T09:06:42.339188",
     "status": "completed"
    },
    "tags": []
   },
   "source": [
    "# Data Preprocessing"
   ]
  },
  {
   "cell_type": "code",
   "execution_count": 4,
   "id": "bb30b431",
   "metadata": {
    "execution": {
     "iopub.execute_input": "2025-04-09T09:06:42.353861Z",
     "iopub.status.busy": "2025-04-09T09:06:42.352884Z",
     "iopub.status.idle": "2025-04-09T09:06:42.371040Z",
     "shell.execute_reply": "2025-04-09T09:06:42.369868Z"
    },
    "papermill": {
     "duration": 0.026497,
     "end_time": "2025-04-09T09:06:42.373863",
     "exception": false,
     "start_time": "2025-04-09T09:06:42.347366",
     "status": "completed"
    },
    "tags": []
   },
   "outputs": [
    {
     "data": {
      "text/html": [
       "<div>\n",
       "<style scoped>\n",
       "    .dataframe tbody tr th:only-of-type {\n",
       "        vertical-align: middle;\n",
       "    }\n",
       "\n",
       "    .dataframe tbody tr th {\n",
       "        vertical-align: top;\n",
       "    }\n",
       "\n",
       "    .dataframe thead th {\n",
       "        text-align: right;\n",
       "    }\n",
       "</style>\n",
       "<table border=\"1\" class=\"dataframe\">\n",
       "  <thead>\n",
       "    <tr style=\"text-align: right;\">\n",
       "      <th></th>\n",
       "      <th>Pregnancies</th>\n",
       "      <th>Glucose</th>\n",
       "      <th>BloodPressure</th>\n",
       "      <th>SkinThickness</th>\n",
       "      <th>Insulin</th>\n",
       "      <th>BMI</th>\n",
       "      <th>DiabetesPedigreeFunction</th>\n",
       "      <th>Age</th>\n",
       "    </tr>\n",
       "  </thead>\n",
       "  <tbody>\n",
       "    <tr>\n",
       "      <th>0</th>\n",
       "      <td>6</td>\n",
       "      <td>148</td>\n",
       "      <td>72</td>\n",
       "      <td>35</td>\n",
       "      <td>0</td>\n",
       "      <td>33.6</td>\n",
       "      <td>0.627</td>\n",
       "      <td>50</td>\n",
       "    </tr>\n",
       "    <tr>\n",
       "      <th>1</th>\n",
       "      <td>1</td>\n",
       "      <td>85</td>\n",
       "      <td>66</td>\n",
       "      <td>29</td>\n",
       "      <td>0</td>\n",
       "      <td>26.6</td>\n",
       "      <td>0.351</td>\n",
       "      <td>31</td>\n",
       "    </tr>\n",
       "    <tr>\n",
       "      <th>2</th>\n",
       "      <td>8</td>\n",
       "      <td>183</td>\n",
       "      <td>64</td>\n",
       "      <td>0</td>\n",
       "      <td>0</td>\n",
       "      <td>23.3</td>\n",
       "      <td>0.672</td>\n",
       "      <td>32</td>\n",
       "    </tr>\n",
       "    <tr>\n",
       "      <th>3</th>\n",
       "      <td>1</td>\n",
       "      <td>89</td>\n",
       "      <td>66</td>\n",
       "      <td>23</td>\n",
       "      <td>94</td>\n",
       "      <td>28.1</td>\n",
       "      <td>0.167</td>\n",
       "      <td>21</td>\n",
       "    </tr>\n",
       "    <tr>\n",
       "      <th>4</th>\n",
       "      <td>0</td>\n",
       "      <td>137</td>\n",
       "      <td>40</td>\n",
       "      <td>35</td>\n",
       "      <td>168</td>\n",
       "      <td>43.1</td>\n",
       "      <td>2.288</td>\n",
       "      <td>33</td>\n",
       "    </tr>\n",
       "  </tbody>\n",
       "</table>\n",
       "</div>"
      ],
      "text/plain": [
       "   Pregnancies  Glucose  BloodPressure  SkinThickness  Insulin   BMI  \\\n",
       "0            6      148             72             35        0  33.6   \n",
       "1            1       85             66             29        0  26.6   \n",
       "2            8      183             64              0        0  23.3   \n",
       "3            1       89             66             23       94  28.1   \n",
       "4            0      137             40             35      168  43.1   \n",
       "\n",
       "   DiabetesPedigreeFunction  Age  \n",
       "0                     0.627   50  \n",
       "1                     0.351   31  \n",
       "2                     0.672   32  \n",
       "3                     0.167   21  \n",
       "4                     2.288   33  "
      ]
     },
     "execution_count": 4,
     "metadata": {},
     "output_type": "execute_result"
    }
   ],
   "source": [
    "train_data_outcome = train_data.iloc[:, 8]\n",
    "train_data.drop(columns=[\"Outcome\"], inplace=True)\n",
    "\n",
    "train_data.head()"
   ]
  },
  {
   "cell_type": "markdown",
   "id": "df6a0b4a",
   "metadata": {
    "papermill": {
     "duration": 0.004171,
     "end_time": "2025-04-09T09:06:42.382828",
     "exception": false,
     "start_time": "2025-04-09T09:06:42.378657",
     "status": "completed"
    },
    "tags": []
   },
   "source": [
    "# Normalization"
   ]
  },
  {
   "cell_type": "code",
   "execution_count": 5,
   "id": "c1dc57c7",
   "metadata": {
    "execution": {
     "iopub.execute_input": "2025-04-09T09:06:42.394229Z",
     "iopub.status.busy": "2025-04-09T09:06:42.393789Z",
     "iopub.status.idle": "2025-04-09T09:06:42.421371Z",
     "shell.execute_reply": "2025-04-09T09:06:42.420214Z"
    },
    "papermill": {
     "duration": 0.036457,
     "end_time": "2025-04-09T09:06:42.423642",
     "exception": false,
     "start_time": "2025-04-09T09:06:42.387185",
     "status": "completed"
    },
    "tags": []
   },
   "outputs": [
    {
     "data": {
      "text/html": [
       "<div>\n",
       "<style scoped>\n",
       "    .dataframe tbody tr th:only-of-type {\n",
       "        vertical-align: middle;\n",
       "    }\n",
       "\n",
       "    .dataframe tbody tr th {\n",
       "        vertical-align: top;\n",
       "    }\n",
       "\n",
       "    .dataframe thead th {\n",
       "        text-align: right;\n",
       "    }\n",
       "</style>\n",
       "<table border=\"1\" class=\"dataframe\">\n",
       "  <thead>\n",
       "    <tr style=\"text-align: right;\">\n",
       "      <th></th>\n",
       "      <th>Pregnancies</th>\n",
       "      <th>Glucose</th>\n",
       "      <th>BloodPressure</th>\n",
       "      <th>SkinThickness</th>\n",
       "      <th>Insulin</th>\n",
       "      <th>BMI</th>\n",
       "      <th>DiabetesPedigreeFunction</th>\n",
       "      <th>Age</th>\n",
       "    </tr>\n",
       "  </thead>\n",
       "  <tbody>\n",
       "    <tr>\n",
       "      <th>0</th>\n",
       "      <td>0.649833</td>\n",
       "      <td>0.854539</td>\n",
       "      <td>0.166518</td>\n",
       "      <td>0.900880</td>\n",
       "      <td>-0.687695</td>\n",
       "      <td>0.222281</td>\n",
       "      <td>0.438405</td>\n",
       "      <td>1.443781</td>\n",
       "    </tr>\n",
       "    <tr>\n",
       "      <th>1</th>\n",
       "      <td>-0.835754</td>\n",
       "      <td>-1.096441</td>\n",
       "      <td>-0.140758</td>\n",
       "      <td>0.526362</td>\n",
       "      <td>-0.687695</td>\n",
       "      <td>-0.672046</td>\n",
       "      <td>-0.370035</td>\n",
       "      <td>-0.178571</td>\n",
       "    </tr>\n",
       "    <tr>\n",
       "      <th>2</th>\n",
       "      <td>1.244068</td>\n",
       "      <td>1.938416</td>\n",
       "      <td>-0.243184</td>\n",
       "      <td>-1.283807</td>\n",
       "      <td>-0.687695</td>\n",
       "      <td>-1.093658</td>\n",
       "      <td>0.570216</td>\n",
       "      <td>-0.093184</td>\n",
       "    </tr>\n",
       "    <tr>\n",
       "      <th>3</th>\n",
       "      <td>-0.835754</td>\n",
       "      <td>-0.972569</td>\n",
       "      <td>-0.140758</td>\n",
       "      <td>0.151844</td>\n",
       "      <td>0.123855</td>\n",
       "      <td>-0.480405</td>\n",
       "      <td>-0.908995</td>\n",
       "      <td>-1.032441</td>\n",
       "    </tr>\n",
       "    <tr>\n",
       "      <th>4</th>\n",
       "      <td>-1.132872</td>\n",
       "      <td>0.513891</td>\n",
       "      <td>-1.472290</td>\n",
       "      <td>0.900880</td>\n",
       "      <td>0.762734</td>\n",
       "      <td>1.436011</td>\n",
       "      <td>5.303692</td>\n",
       "      <td>-0.007797</td>\n",
       "    </tr>\n",
       "  </tbody>\n",
       "</table>\n",
       "</div>"
      ],
      "text/plain": [
       "   Pregnancies   Glucose  BloodPressure  SkinThickness   Insulin       BMI  \\\n",
       "0     0.649833  0.854539       0.166518       0.900880 -0.687695  0.222281   \n",
       "1    -0.835754 -1.096441      -0.140758       0.526362 -0.687695 -0.672046   \n",
       "2     1.244068  1.938416      -0.243184      -1.283807 -0.687695 -1.093658   \n",
       "3    -0.835754 -0.972569      -0.140758       0.151844  0.123855 -0.480405   \n",
       "4    -1.132872  0.513891      -1.472290       0.900880  0.762734  1.436011   \n",
       "\n",
       "   DiabetesPedigreeFunction       Age  \n",
       "0                  0.438405  1.443781  \n",
       "1                 -0.370035 -0.178571  \n",
       "2                  0.570216 -0.093184  \n",
       "3                 -0.908995 -1.032441  \n",
       "4                  5.303692 -0.007797  "
      ]
     },
     "execution_count": 5,
     "metadata": {},
     "output_type": "execute_result"
    }
   ],
   "source": [
    "for column in train_data.columns:\n",
    "  mean = train_data[column].mean()\n",
    "  std = train_data[column].std()\n",
    "  train_data[column]=(train_data[column]- mean)/std\n",
    "  test_data[column]=(test_data[column] - mean)/std\n",
    "\n",
    "train_data.head()"
   ]
  },
  {
   "cell_type": "markdown",
   "id": "7ce246ac",
   "metadata": {
    "papermill": {
     "duration": 0.00427,
     "end_time": "2025-04-09T09:06:42.432508",
     "exception": false,
     "start_time": "2025-04-09T09:06:42.428238",
     "status": "completed"
    },
    "tags": []
   },
   "source": [
    "Add Bias"
   ]
  },
  {
   "cell_type": "code",
   "execution_count": 6,
   "id": "9e216113",
   "metadata": {
    "execution": {
     "iopub.execute_input": "2025-04-09T09:06:42.444415Z",
     "iopub.status.busy": "2025-04-09T09:06:42.443999Z",
     "iopub.status.idle": "2025-04-09T09:06:42.460958Z",
     "shell.execute_reply": "2025-04-09T09:06:42.459730Z"
    },
    "papermill": {
     "duration": 0.025464,
     "end_time": "2025-04-09T09:06:42.463230",
     "exception": false,
     "start_time": "2025-04-09T09:06:42.437766",
     "status": "completed"
    },
    "tags": []
   },
   "outputs": [
    {
     "data": {
      "text/html": [
       "<div>\n",
       "<style scoped>\n",
       "    .dataframe tbody tr th:only-of-type {\n",
       "        vertical-align: middle;\n",
       "    }\n",
       "\n",
       "    .dataframe tbody tr th {\n",
       "        vertical-align: top;\n",
       "    }\n",
       "\n",
       "    .dataframe thead th {\n",
       "        text-align: right;\n",
       "    }\n",
       "</style>\n",
       "<table border=\"1\" class=\"dataframe\">\n",
       "  <thead>\n",
       "    <tr style=\"text-align: right;\">\n",
       "      <th></th>\n",
       "      <th>Bias</th>\n",
       "      <th>Pregnancies</th>\n",
       "      <th>Glucose</th>\n",
       "      <th>BloodPressure</th>\n",
       "      <th>SkinThickness</th>\n",
       "      <th>Insulin</th>\n",
       "      <th>BMI</th>\n",
       "      <th>DiabetesPedigreeFunction</th>\n",
       "      <th>Age</th>\n",
       "    </tr>\n",
       "  </thead>\n",
       "  <tbody>\n",
       "    <tr>\n",
       "      <th>0</th>\n",
       "      <td>1</td>\n",
       "      <td>0.649833</td>\n",
       "      <td>0.854539</td>\n",
       "      <td>0.166518</td>\n",
       "      <td>0.900880</td>\n",
       "      <td>-0.687695</td>\n",
       "      <td>0.222281</td>\n",
       "      <td>0.438405</td>\n",
       "      <td>1.443781</td>\n",
       "    </tr>\n",
       "    <tr>\n",
       "      <th>1</th>\n",
       "      <td>1</td>\n",
       "      <td>-0.835754</td>\n",
       "      <td>-1.096441</td>\n",
       "      <td>-0.140758</td>\n",
       "      <td>0.526362</td>\n",
       "      <td>-0.687695</td>\n",
       "      <td>-0.672046</td>\n",
       "      <td>-0.370035</td>\n",
       "      <td>-0.178571</td>\n",
       "    </tr>\n",
       "    <tr>\n",
       "      <th>2</th>\n",
       "      <td>1</td>\n",
       "      <td>1.244068</td>\n",
       "      <td>1.938416</td>\n",
       "      <td>-0.243184</td>\n",
       "      <td>-1.283807</td>\n",
       "      <td>-0.687695</td>\n",
       "      <td>-1.093658</td>\n",
       "      <td>0.570216</td>\n",
       "      <td>-0.093184</td>\n",
       "    </tr>\n",
       "    <tr>\n",
       "      <th>3</th>\n",
       "      <td>1</td>\n",
       "      <td>-0.835754</td>\n",
       "      <td>-0.972569</td>\n",
       "      <td>-0.140758</td>\n",
       "      <td>0.151844</td>\n",
       "      <td>0.123855</td>\n",
       "      <td>-0.480405</td>\n",
       "      <td>-0.908995</td>\n",
       "      <td>-1.032441</td>\n",
       "    </tr>\n",
       "    <tr>\n",
       "      <th>4</th>\n",
       "      <td>1</td>\n",
       "      <td>-1.132872</td>\n",
       "      <td>0.513891</td>\n",
       "      <td>-1.472290</td>\n",
       "      <td>0.900880</td>\n",
       "      <td>0.762734</td>\n",
       "      <td>1.436011</td>\n",
       "      <td>5.303692</td>\n",
       "      <td>-0.007797</td>\n",
       "    </tr>\n",
       "  </tbody>\n",
       "</table>\n",
       "</div>"
      ],
      "text/plain": [
       "   Bias  Pregnancies   Glucose  BloodPressure  SkinThickness   Insulin  \\\n",
       "0     1     0.649833  0.854539       0.166518       0.900880 -0.687695   \n",
       "1     1    -0.835754 -1.096441      -0.140758       0.526362 -0.687695   \n",
       "2     1     1.244068  1.938416      -0.243184      -1.283807 -0.687695   \n",
       "3     1    -0.835754 -0.972569      -0.140758       0.151844  0.123855   \n",
       "4     1    -1.132872  0.513891      -1.472290       0.900880  0.762734   \n",
       "\n",
       "        BMI  DiabetesPedigreeFunction       Age  \n",
       "0  0.222281                  0.438405  1.443781  \n",
       "1 -0.672046                 -0.370035 -0.178571  \n",
       "2 -1.093658                  0.570216 -0.093184  \n",
       "3 -0.480405                 -0.908995 -1.032441  \n",
       "4  1.436011                  5.303692 -0.007797  "
      ]
     },
     "execution_count": 6,
     "metadata": {},
     "output_type": "execute_result"
    }
   ],
   "source": [
    "train_bias =  1\n",
    "train_data.insert(0, \"Bias\", train_bias)\n",
    "\n",
    "test_bias = 1\n",
    "test_data.insert(0, \"Bias\", test_bias)\n",
    "\n",
    "train_data.head()"
   ]
  },
  {
   "cell_type": "markdown",
   "id": "05e72cc2",
   "metadata": {
    "papermill": {
     "duration": 0.004537,
     "end_time": "2025-04-09T09:06:42.472669",
     "exception": false,
     "start_time": "2025-04-09T09:06:42.468132",
     "status": "completed"
    },
    "tags": []
   },
   "source": [
    "# Creating boxplot "
   ]
  },
  {
   "cell_type": "code",
   "execution_count": 7,
   "id": "aed3b6d2",
   "metadata": {
    "execution": {
     "iopub.execute_input": "2025-04-09T09:06:42.484215Z",
     "iopub.status.busy": "2025-04-09T09:06:42.483789Z",
     "iopub.status.idle": "2025-04-09T09:06:44.030749Z",
     "shell.execute_reply": "2025-04-09T09:06:44.029544Z"
    },
    "papermill": {
     "duration": 1.555817,
     "end_time": "2025-04-09T09:06:44.033407",
     "exception": false,
     "start_time": "2025-04-09T09:06:42.477590",
     "status": "completed"
    },
    "tags": []
   },
   "outputs": [],
   "source": [
    "from sklearn.model_selection import train_test_split\n",
    "X_train, X_validation, y_train, y_validation = train_test_split(train_data, train_data_outcome, test_size=0.2) \n",
    "\n",
    "X_train = np.array(X_train)\n",
    "X_validation = np.array(X_validation)\n",
    "y_train = np.array(y_train)\n",
    "y_validation = np.array(y_validation)\n",
    "test_data_numpy = np.array(test_data)\n",
    "X_train = np.transpose(X_train)\n",
    "X_validation = np.transpose(X_validation)\n",
    "test_data_numpy = np.transpose(test_data_numpy)\n",
    "y_train =  y_train.T\n",
    "y_validation = y_validation.T"
   ]
  },
  {
   "cell_type": "markdown",
   "id": "a3fcb0e6",
   "metadata": {
    "papermill": {
     "duration": 0.004693,
     "end_time": "2025-04-09T09:06:44.043221",
     "exception": false,
     "start_time": "2025-04-09T09:06:44.038528",
     "status": "completed"
    },
    "tags": []
   },
   "source": [
    "Shape"
   ]
  },
  {
   "cell_type": "code",
   "execution_count": 8,
   "id": "bd436300",
   "metadata": {
    "execution": {
     "iopub.execute_input": "2025-04-09T09:06:44.054698Z",
     "iopub.status.busy": "2025-04-09T09:06:44.054182Z",
     "iopub.status.idle": "2025-04-09T09:06:44.060417Z",
     "shell.execute_reply": "2025-04-09T09:06:44.059149Z"
    },
    "papermill": {
     "duration": 0.014966,
     "end_time": "2025-04-09T09:06:44.063004",
     "exception": false,
     "start_time": "2025-04-09T09:06:44.048038",
     "status": "completed"
    },
    "tags": []
   },
   "outputs": [
    {
     "name": "stdout",
     "output_type": "stream",
     "text": [
      "X_train.shape:(9, 534), y_train.shape:(534,)\n",
      "X_validation.shape:(9, 134), y_validation.shape:(134,)\n",
      "test_data_numpy.shape:(9, 100)\n"
     ]
    }
   ],
   "source": [
    "print(f'X_train.shape:{X_train.shape}, y_train.shape:{y_train.shape}')\n",
    "print(f'X_validation.shape:{X_validation.shape}, y_validation.shape:{y_validation.shape}')\n",
    "print(f'test_data_numpy.shape:{test_data_numpy.shape}')"
   ]
  },
  {
   "cell_type": "markdown",
   "id": "d8cb839c",
   "metadata": {
    "papermill": {
     "duration": 0.00467,
     "end_time": "2025-04-09T09:06:44.072749",
     "exception": false,
     "start_time": "2025-04-09T09:06:44.068079",
     "status": "completed"
    },
    "tags": []
   },
   "source": [
    "# Model"
   ]
  },
  {
   "cell_type": "code",
   "execution_count": 9,
   "id": "99b44603",
   "metadata": {
    "execution": {
     "iopub.execute_input": "2025-04-09T09:06:44.084223Z",
     "iopub.status.busy": "2025-04-09T09:06:44.083796Z",
     "iopub.status.idle": "2025-04-09T09:06:44.094606Z",
     "shell.execute_reply": "2025-04-09T09:06:44.093548Z"
    },
    "papermill": {
     "duration": 0.019152,
     "end_time": "2025-04-09T09:06:44.096842",
     "exception": false,
     "start_time": "2025-04-09T09:06:44.077690",
     "status": "completed"
    },
    "tags": []
   },
   "outputs": [],
   "source": [
    "class Model:\n",
    "\n",
    "    def __init__(self):\n",
    "\n",
    "        self.w1 = 0.01 * np.random.randn(1000, 9)\n",
    "        self.w2 = 0.01 * np.random.randn(1, 1000)\n",
    "\n",
    "    def predict(self, inputs):\n",
    "        x = inputs\n",
    "        \n",
    "        Z_1 = np.dot(self.w1, x)\n",
    "        A_1 = np.maximum(0, Z_1)\n",
    "\n",
    "        Z_2 = np.dot(self.w2, A_1)\n",
    "        A_2 = 1 / (1 + np.exp(-Z_2))\n",
    "        return A_1, A_2\n",
    "\n",
    "    def update_weights_for_one_epoch(self, inputs, outputs, learning_rate):\n",
    "        x, y_true = inputs, outputs\n",
    "        A_1, A_2 = self.predict(inputs)\n",
    "\n",
    "        n = x.shape[1]\n",
    "        \n",
    "        \n",
    "        shared_coefficient = ((2 * learning_rate) / n)\n",
    "        yyy = shared_coefficient * (y_true - A_2) * A_2 * (1 - A_2)\n",
    "        relu_gradient = np.where(A_1 > 0, 1, 0)\n",
    "        delta_2 = (y_true - A_2) * A_2 * (1 - A_2)\n",
    "        delta_1 = np.dot(self.w2.T, delta_2) * relu_gradient\n",
    "        self.w1 = self.w1 + shared_coefficient * np.dot(delta_1, x.T)\n",
    "        self.w2 = self.w2 + np.dot(yyy, np.transpose(A_1))\n",
    "        \n",
    "        \n",
    "\n",
    "        \n",
    "\n",
    "    def fit(self, inputs, outputs, learning_rate, epochs=64):\n",
    "        for i in range(epochs):\n",
    "            self.update_weights_for_one_epoch(inputs, outputs, learning_rate)\n",
    "\n",
    "\n"
   ]
  },
  {
   "cell_type": "code",
   "execution_count": 10,
   "id": "f7645354",
   "metadata": {
    "execution": {
     "iopub.execute_input": "2025-04-09T09:06:44.109512Z",
     "iopub.status.busy": "2025-04-09T09:06:44.108692Z",
     "iopub.status.idle": "2025-04-09T09:06:44.114139Z",
     "shell.execute_reply": "2025-04-09T09:06:44.112741Z"
    },
    "papermill": {
     "duration": 0.014509,
     "end_time": "2025-04-09T09:06:44.116497",
     "exception": false,
     "start_time": "2025-04-09T09:06:44.101988",
     "status": "completed"
    },
    "tags": []
   },
   "outputs": [],
   "source": [
    "def evaluation(model, inputs, outputs):\n",
    "  _, A_2 = model.predict(inputs)\n",
    "  prediction = (A_2 > 0.5)\n",
    "  return np.mean(prediction == outputs) * 100"
   ]
  },
  {
   "cell_type": "code",
   "execution_count": 11,
   "id": "737df8ca",
   "metadata": {
    "execution": {
     "iopub.execute_input": "2025-04-09T09:06:44.128547Z",
     "iopub.status.busy": "2025-04-09T09:06:44.128177Z",
     "iopub.status.idle": "2025-04-09T09:07:09.349628Z",
     "shell.execute_reply": "2025-04-09T09:07:09.347633Z"
    },
    "papermill": {
     "duration": 25.230921,
     "end_time": "2025-04-09T09:07:09.352879",
     "exception": false,
     "start_time": "2025-04-09T09:06:44.121958",
     "status": "completed"
    },
    "tags": []
   },
   "outputs": [
    {
     "name": "stdout",
     "output_type": "stream",
     "text": [
      "model accuracy: 65.67%\n"
     ]
    }
   ],
   "source": [
    "model = Model()\n",
    "model.fit(X_train, y_train, learning_rate = 0.001, epochs = 2000)\n",
    "\n",
    "# Model evaluation \n",
    "print(f\"model accuracy: {round(evaluation(model, X_validation, y_validation), 2)}%\")"
   ]
  }
 ],
 "metadata": {
  "kaggle": {
   "accelerator": "none",
   "dataSources": [
    {
     "datasetId": 228,
     "sourceId": 482,
     "sourceType": "datasetVersion"
    }
   ],
   "dockerImageVersionId": 30786,
   "isGpuEnabled": false,
   "isInternetEnabled": true,
   "language": "python",
   "sourceType": "notebook"
  },
  "kernelspec": {
   "display_name": "base",
   "language": "python",
   "name": "python3"
  },
  "language_info": {
   "codemirror_mode": {
    "name": "ipython",
    "version": 3
   },
   "file_extension": ".py",
   "mimetype": "text/x-python",
   "name": "python",
   "nbconvert_exporter": "python",
   "pygments_lexer": "ipython3",
   "version": "3.12.7"
  },
  "papermill": {
   "default_parameters": {},
   "duration": 32.148982,
   "end_time": "2025-04-09T09:07:09.985965",
   "environment_variables": {},
   "exception": null,
   "input_path": "__notebook__.ipynb",
   "output_path": "__notebook__.ipynb",
   "parameters": {},
   "start_time": "2025-04-09T09:06:37.836983",
   "version": "2.6.0"
  }
 },
 "nbformat": 4,
 "nbformat_minor": 5
}
